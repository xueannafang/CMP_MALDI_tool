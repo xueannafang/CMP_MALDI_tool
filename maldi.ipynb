{
 "cells": [
  {
   "cell_type": "code",
   "execution_count": 1,
   "id": "168e1256",
   "metadata": {},
   "outputs": [],
   "source": [
    "import numpy as np"
   ]
  },
  {
   "cell_type": "code",
   "execution_count": 2,
   "id": "d675b5ec",
   "metadata": {},
   "outputs": [],
   "source": [
    "mass = [482.01, 108.14, 279.92, 80.91]  # core, linker, ext, bond(HBr)\n",
    "\n",
    "def renorm(goal, mass):\n",
    "    \"\"\"\n",
    "    Only works for situation like tri-core + dual-linker + dual-ext\n",
    "    a1*n1 + a2*n2 + a3*n3 = a4; n1, n2, n3 should be positive integer, they are # of cores, ext and free linker, respectively.\n",
    "    \"\"\"\n",
    "    a = [mass[0]+mass[1]-2*mass[3], mass[2]+mass[1]-2*mass[3], mass[1]-mass[3], goal+mass[1]-2*mass[3]]\n",
    "    return a\n",
    "\n",
    "def get_comb(a):\n",
    "    N = [a[3]//a[0], a[3]//a[1], a[3]//a[2]]\n",
    "    X = np.mgrid[:N[0]+1,:N[1]+1,:N[2]+1]\n",
    "    return X\n",
    "\n",
    "def unit_calc(X, a):\n",
    "    x1, x2, x3 = X\n",
    "    a1, a2, a3 = a[:-1]\n",
    "    return a1*x1 + a2*x2 + a3*x3\n",
    "\n",
    "def get_mass(res, mass):\n",
    "    return res + 2*mass[3] - mass[1]   \n",
    "\n",
    "def get_mask(X):\n",
    "    x1, x2, x3 = X\n",
    "    return x3 <= x1+2\n",
    "\n",
    "def find_closest(res, a, k=5, mask=None):\n",
    "    \"\"\"return first k smallest err index and its results and its err (id, res, err)\"\"\"\n",
    "    if mask is None:\n",
    "        err = np.abs(res - a[-1])\n",
    "    else:\n",
    "        err = np.where(mask, np.abs(res - a[-1]), np.inf)\n",
    "    idx = tuple(np.array(np.unravel_index(np.argsort(err, axis=None), err.shape))[:,:k])\n",
    "    return idx, err[idx]\n",
    "\n",
    "def get_fraction(idx):\n",
    "    x1, x2, x3 = idx\n",
    "    n1 = x1  # cores\n",
    "    n3 = x2  # ext\n",
    "    nf = x3  # free linker\n",
    "    nb = n1 + n3 -1  # bonded linker\n",
    "    n2 = nf + nb  # linkers\n",
    "    n4 = nf + 2*nb  # HBr\n",
    "    return n1, n2, n3, n4\n"
   ]
  },
  {
   "cell_type": "code",
   "execution_count": 7,
   "id": "3c22e857",
   "metadata": {},
   "outputs": [],
   "source": [
    "def find_solution(goal, mass=mass, k=1):\n",
    "    a = renorm(goal, mass)\n",
    "    X = get_comb(a)\n",
    "    summation = unit_calc(X, a)\n",
    "    mask = get_mask(X)\n",
    "    idx, err = find_closest(summation, a, k=k, mask=mask)    \n",
    "    total_mass = get_mass(summation, mass)\n",
    "    attempted_mass = np.sort(np.ravel(total_mass)[np.ravel(mask)])\n",
    "    print(\"all attempted valid mass:\")\n",
    "    print(attempted_mass)\n",
    "    return idx, total_mass[idx], total_mass[idx]-goal"
   ]
  },
  {
   "cell_type": "code",
   "execution_count": 11,
   "id": "2b096f29",
   "metadata": {},
   "outputs": [
    {
     "name": "stdout",
     "output_type": "stream",
     "text": [
      "all attempted valid mass:\n",
      "[  53.68   80.91  108.14  279.92  307.15  334.38  482.01  506.16  509.24\n",
      "  533.39  536.47  560.62  563.7   708.25  732.4   735.48  759.63  762.71\n",
      "  786.86  789.94  910.34  934.49  937.57  958.64  961.72  964.8   985.87\n",
      "  988.95  992.03 1013.1  1016.18 1019.26 1136.58 1160.73 1163.81 1184.88\n",
      " 1187.96 1191.04 1212.11 1215.19 1218.27 1239.34 1242.42 1245.5  1362.82\n",
      " 1386.97 1390.05 1414.2  1417.28 1441.43 1444.51 1468.66 1471.74 1589.06\n",
      " 1613.21 1616.29 1640.44 1643.52 1667.67 1670.75 1694.9  1697.98 1815.3\n",
      " 1842.53 1869.76 1896.99 1924.22 2041.54 2068.77 2096.   2123.23 2150.46]\n",
      "index: [[2 1 3]\n",
      " [1 3 2]\n",
      " [0 5 1]]\n",
      "calculated mass: [1218.27 1215.19 1212.11]\n",
      "error to goal: [ -5.454  -8.534 -11.614]\n"
     ]
    }
   ],
   "source": [
    "idx, calc_mass, err = find_solution(1223.724, k=3)\n",
    "\n",
    "print(\"index:\", np.array(idx).T)\n",
    "print(\"calculated mass:\", calc_mass)\n",
    "print(\"error to goal:\", err)"
   ]
  },
  {
   "cell_type": "code",
   "execution_count": 5,
   "id": "0d3d82d7",
   "metadata": {},
   "outputs": [
    {
     "name": "stdout",
     "output_type": "stream",
     "text": [
      "[cores linkers exts sites]:\n",
      " [[1 4 4 8]\n",
      " [2 4 2 7]\n",
      " [3 4 0 6]]\n"
     ]
    }
   ],
   "source": [
    "frac = np.array(get_fraction(idx)).T\n",
    "print(\"[cores linkers exts sites]:\\n\", frac)"
   ]
  },
  {
   "cell_type": "code",
   "execution_count": null,
   "id": "7b3d4fa6",
   "metadata": {},
   "outputs": [],
   "source": []
  }
 ],
 "metadata": {
  "kernelspec": {
   "display_name": "Python 3",
   "language": "python",
   "name": "python3"
  },
  "language_info": {
   "codemirror_mode": {
    "name": "ipython",
    "version": 3
   },
   "file_extension": ".py",
   "mimetype": "text/x-python",
   "name": "python",
   "nbconvert_exporter": "python",
   "pygments_lexer": "ipython3",
   "version": "3.8.8"
  }
 },
 "nbformat": 4,
 "nbformat_minor": 5
}
