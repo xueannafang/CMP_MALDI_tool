{
 "cells": [
  {
   "cell_type": "code",
   "execution_count": 1,
   "id": "168e1256",
   "metadata": {},
   "outputs": [],
   "source": [
    "import numpy as np"
   ]
  },
  {
   "cell_type": "code",
   "execution_count": 2,
   "id": "d675b5ec",
   "metadata": {},
   "outputs": [],
   "source": [
    "mass = [482.01, 108.14, 279.92, 80.91]  # mw of core, linker, ext, removed unit when a new bond is formed (HBr in this case)\n",
    "\n",
    "def renorm(goal: float, mass: list) -> tuple:\n",
    "    \"\"\"retur.... Only works for situation like tri-core + dual-linker + dual-ext\n",
    "\n",
    "    Args:\n",
    "        goal (float): peak of interest on the mass spectrum.\n",
    "        mass (list): [mw of core, mw of linker, mw of extender, mw of removed unit for each bond formation]\n",
    "\n",
    "    Returns:\n",
    "        tuple: c_nc, c_ne, c_nlf, c_goal.\n",
    "    \"\"\"\n",
    "    m_c, m_l, m_e, m_rm = mass\n",
    "\n",
    "    # a1 is the coefficient of number of c -> c_nc\n",
    "    # a2 is the coefficient of number of e -> c_ne\n",
    "    # a3 is the coefficient of number of l with one free termini (nl_f) -> c_nlf\n",
    "    # a4 is the constant modified goal -> c_goal\n",
    "\n",
    "    c_nc = m_c + m_e - 2 * m_rm\n",
    "    c_ne = m_l + m_e - 2 * m_rm\n",
    "    c_nlf = m_l - m_rm\n",
    "    c_goal = goal + m_l - 2 * m_rm\n",
    "    \n",
    "    # a = [mass[0] + mass[1] - 2*mass[3], mass[2] + mass[1] - 2*mass[3], mass[1] - mass[3], goal + mass[1] - 2*mass[3]]\n",
    "    \n",
    "    return c_nc, c_ne, c_nlf, c_goal\n",
    "\n",
    "def get_comb(a):\n",
    "    N = [a[3]//a[0], a[3]//a[1], a[3]//a[2]]\n",
    "    X = np.mgrid[:N[0]+1,:N[1]+1,:N[2]+1]\n",
    "    return X\n",
    "\n",
    "def unit_calc(X, a):\n",
    "    x1, x2, x3 = X\n",
    "    a1, a2, a3 = a[:-1]\n",
    "    return a1*x1 + a2*x2 + a3*x3\n",
    "\n",
    "def get_mass(res, mass):\n",
    "    return res + 2*mass[3] - mass[1]   \n",
    "\n",
    "def get_mask(X):\n",
    "    x1, x2, x3 = X\n",
    "    return x3 <= x1+2\n",
    "\n",
    "def find_closest(res, a, k=5, mask=None):\n",
    "    \"\"\"return first k smallest err index and its results and its err (id, res, err)\"\"\"\n",
    "    if mask is None:\n",
    "        err = np.abs(res - a[-1])\n",
    "    else:\n",
    "        err = np.where(mask, np.abs(res - a[-1]), np.inf)\n",
    "    idx = tuple(np.array(np.unravel_index(np.argsort(err, axis=None), err.shape))[:,:k])\n",
    "    return idx, err[idx]\n",
    "\n",
    "def get_fraction(idx):\n",
    "    x1, x2, x3 = idx\n",
    "    n1 = x1  # cores\n",
    "    n3 = x2  # ext\n",
    "    nf = x3  # free linker\n",
    "    nb = n1 + n3 -1  # bonded linker\n",
    "    n2 = nf + nb  # linkers\n",
    "    n4 = nf + 2*nb  # HBr\n",
    "    return n1, n2, n3, n4\n"
   ]
  },
  {
   "cell_type": "code",
   "execution_count": 3,
   "id": "3c22e857",
   "metadata": {},
   "outputs": [],
   "source": [
    "def find_solution(goal, mass=mass, k=1):\n",
    "    a = renorm(goal, mass)\n",
    "    X = get_comb(a)\n",
    "    summation = unit_calc(X, a)\n",
    "    mask = get_mask(X)\n",
    "    idx, err = find_closest(summation, a, k=k, mask=mask)    \n",
    "    total_mass = get_mass(summation, mass)\n",
    "    attempted_mass = np.sort(np.ravel(total_mass)[np.ravel(mask)])\n",
    "    print(\"all attempted valid mass:\")\n",
    "    print(attempted_mass)\n",
    "    return idx, total_mass[idx], total_mass[idx]-goal"
   ]
  },
  {
   "cell_type": "code",
   "execution_count": 4,
   "id": "2b096f29",
   "metadata": {},
   "outputs": [
    {
     "name": "stdout",
     "output_type": "stream",
     "text": [
      "all attempted valid mass:\n",
      "[  53.68   80.91  108.14  279.92  307.15  334.38  482.01  506.16  509.24\n",
      "  533.39  536.47  560.62  563.7   708.25  735.48  762.71  789.94  934.49\n",
      "  961.72  988.95 1016.18]\n",
      "index: [[1 0 3]\n",
      " [0 2 2]\n",
      " [1 0 2]]\n",
      "calculated mass: [563.7  560.62 536.47]\n",
      "error to goal: [  0.7   -2.38 -26.53]\n"
     ]
    }
   ],
   "source": [
    "idx, calc_mass, err = find_solution(563, k=3)\n",
    "\n",
    "print(\"index:\", np.array(idx).T)\n",
    "print(\"calculated mass:\", calc_mass)\n",
    "print(\"error to goal:\", err)"
   ]
  },
  {
   "cell_type": "code",
   "execution_count": 5,
   "id": "0d3d82d7",
   "metadata": {},
   "outputs": [
    {
     "name": "stdout",
     "output_type": "stream",
     "text": [
      "[cores linkers exts rm_sites]:\n",
      " [[1 3 0 3]\n",
      " [0 3 2 4]\n",
      " [1 2 0 2]]\n"
     ]
    }
   ],
   "source": [
    "frac = np.array(get_fraction(idx)).T\n",
    "print(\"[cores linkers exts rm_sites]:\\n\", frac)"
   ]
  },
  {
   "cell_type": "code",
   "execution_count": null,
   "id": "7b3d4fa6",
   "metadata": {},
   "outputs": [],
   "source": []
  }
 ],
 "metadata": {
  "kernelspec": {
   "display_name": "test",
   "language": "python",
   "name": "python3"
  },
  "language_info": {
   "codemirror_mode": {
    "name": "ipython",
    "version": 3
   },
   "file_extension": ".py",
   "mimetype": "text/x-python",
   "name": "python",
   "nbconvert_exporter": "python",
   "pygments_lexer": "ipython3",
   "version": "3.9.2"
  },
  "vscode": {
   "interpreter": {
    "hash": "a609950dfb6f9c71eff242fe953aa92f1de723e696efe0dc1243482190e571d6"
   }
  }
 },
 "nbformat": 4,
 "nbformat_minor": 5
}
